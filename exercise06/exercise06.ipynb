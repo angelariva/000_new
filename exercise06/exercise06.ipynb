{
 "cells": [
  {
   "cell_type": "markdown",
   "metadata": {},
   "source": [
    "# Numerical exercises 06\n",
    "\n",
    "From shell, inside `/code` directory:\n",
    "- To compile: `make`\n",
    "\n",
    "From shell, inside _this_ directory:\n",
    "- To run the program: `./ex1.sh`\n",
    "\n",
    "The scripts provided should take care of everything. The scripts set also the values of the input file. To change the input values the best option could be to modify the scripts themselves."
   ]
  },
  {
   "cell_type": "code",
   "execution_count": 1,
   "metadata": {},
   "outputs": [],
   "source": [
    "import numpy as np\n",
    "from numpy import tanh, cosh, sinh, exp, sqrt\n",
    "import matplotlib.pyplot as pl\n",
    "from mpl_toolkits.axes_grid1.inset_locator import zoomed_inset_axes    # zoomed up image libraries\n",
    "from mpl_toolkits.axes_grid1.inset_locator import mark_inset"
   ]
  },
  {
   "cell_type": "markdown",
   "metadata": {},
   "source": [
    "## Exercise 06.1: Ising Model simulation with Metropolis and Gibbs sampling\n",
    "\n",
    "### Sampling the canonical ensemble probability distribution\n",
    "\n",
    "The simulations of the molecular dynamics done in exercise 04 were performed in the microcanonical ensemble. In it, equilibrium states are identified by a collection of fixed extensive variables: the number of degrees of freedom $N$, the volume $V$, the internal energy $E$. Experimental constraints often make preferable a different choice. In particular, in the **canonical ensemble** the number of degrees of freedom $N$, the volume $V$, and the **temperature** $T$ are fixed. The thermodynamics of this system can be derived by the knowledge of the partition function or of the (Helmoltz) free energy associated to the ensemble $A = E -TS$:\n",
    "$$\n",
    "Q_N(V,T)=e^{-A(N,V;T)/k_B T} \\quad \\quad A(N,V,T) = -k_B T \\ln Q_N(V,T)\n",
    "$$\n",
    "Calculating any thermodynamic property $\\langle f \\rangle$ with MC methods seems to be an impossible task without this knowledge:\n",
    "$$\n",
    "\\langle f \\rangle = \\int \\frac{d^{3N}q d^{3N} p}{h^{3N} N!} f(\\vec q, \\vec p ) \\frac{ e^{-H(\\vec q, \\vec p)/k_B T}}{Q_N(V,T)},\n",
    "$$\n",
    "But wiht Metropolis algorithm we can in fact sample the probability distribution:\n",
    "$$\n",
    "\\rho(\\vec q, \\vec p) = \\frac{e^{-H(\\vec q, \\vec p)/k_B T}}{Q_N(V,T)}\n",
    "$$\n",
    "without knowing the normalization constant, that goes away in the acceptance step. "
   ]
  },
  {
   "cell_type": "markdown",
   "metadata": {},
   "source": [
    "### The Ising Model\n",
    "\n",
    "In the simulation, we deal with a one-dimensional Ising model made up by $N=50$ spin degrees of freedom ($\\pm 1$ are the only possible values) $\\{s_i\\}_{i=1}^N$, with periodic boundary condition: $s_{N+1}=s_1$. The Ising model is exactly resoluble, and its hamiltonian is given by, with $\\mu_B=1$ and $k_B=1$:\n",
    "$$\n",
    "H = \n",
    "-J\\sum_{i=1}^N s_i s_{i+1}\n",
    "-\\frac{h}{2}\\sum_{i=1}^N (s_i + s_{i+1}),\n",
    "$$\n",
    "where $J$ is the coupling between nearest neighbors: at low enough temperatures, for positive values of $J$ the spins tend to orient themselves in the same direction (ferromagnetic behavior), for negative values they tend to orient themselves in opposite directions (anti-ferromagnetic behavior).\n",
    "\n",
    "The partition function is given by a sum over all of the possible spin configurations:\n",
    "$$\n",
    "Q_N=\\sum_{\\{s_i\\}} e^{-\\beta H} = \\lambda_1^N + \\lambda_2^N, \n",
    "$$\n",
    "with:\n",
    "$$\n",
    "\\lambda_{1,2} = \n",
    "e^{\\beta J} \n",
    "\\cosh (\\beta h) \\pm \\left[ e^{2\\beta J} \\cosh^2 (\\beta h) - 2\\sinh (2\\beta J) \\right]^{1/2}\n",
    "$$\n",
    "\n",
    "This is all we need to compute the analytical value of the thermodynamics quantities of interest. We will compare the theoretical results with the Monte Carlo outputs making use of the following relations:\n",
    "\n",
    "$$ U(N,T,h) = \\langle H \\rangle $$\n",
    "\n",
    "$$ C(N,T,h) = \\frac{\\partial U(N,T)}{\\partial T} = \\beta^2 \\left(\\langle H^2 \\rangle -\\langle H \\rangle^2 \\right) $$\n",
    "\n",
    "$$ M(N,T,h) = k_B T \\frac{\\partial \\ln Z}{\\partial h} =\n",
    "\\left\\langle \\sum_{i=1}^N s_i \\right\\rangle $$\n",
    "\n",
    "$$ \\chi(N,T,h) = \\frac{\\partial M}{\\partial h} =\n",
    "\\beta \\left[ \\left\\langle \\left( \\sum_{i=1}^N s_i \\right)^2 \\right\\rangle - \\left\\langle \\sum_{i=1}^N s_i \\right\\rangle^2 \\right] $$\n"
   ]
  },
  {
   "cell_type": "code",
   "execution_count": null,
   "metadata": {},
   "outputs": [],
   "source": [
    "T=(0.5,0.95,2.)\n",
    "eteo=[-J*( (tanh(J/t)) + (1/(tanh(J/t)))*((tanh(J/t))**Ns) )/( 1 + ((tanh(J/t))**Ns) )*Ns for t in T]\n",
    "title=('First 200 points','last 500 points'); labteo=['expected <U>','','']\n",
    "\n",
    "def graph_burn(ifMetro):\n",
    "    if ifMetro: name=\"metro\"\n",
    "    else: name=\"gibbs\"\n",
    "\n",
    "    nburn=np.genfromtxt('results/burnIn.'+name+'_0.out',max_rows=1)\n",
    "    burn0=np.genfromtxt('results/burnIn.'+name+'_0.out',skip_header=1,names='x,u')\n",
    "    burn10=np.genfromtxt('results/burnIn.'+name+'_6.out',skip_header=1,names='x,u')\n",
    "    burn20=np.genfromtxt('results/burnIn.'+name+'_20.out',skip_header=1,names='x,u')\n",
    "    burn=(burn0,burn10,burn20); labT=['T='+str(temp) for temp in T]\n",
    "\n",
    "    pl.figure(figsize=(15,4))\n",
    "    for i in range(2):\n",
    "        pl.subplot(1,2,i+1)\n",
    "        for j in range(3): pl.plot(burn[j]['x'],burn[j]['u'],label=labT[j])\n",
    "        for j in range(3): pl.axhline(y=eteo[j],color='k',linewidth=0.8,label=labteo[j])\n",
    "        if i==0: pl.xlim(-1,200)\n",
    "        elif i==1: pl.xlim(nburn-500,nburn)\n",
    "        pl.legend(loc='best')\n",
    "        pl.xlabel('$N_{burn}$')\n",
    "        if i==0: pl.ylabel('$U$',labelpad=15)\n",
    "        pl.title(title[i])\n",
    "        pl.grid(True)\n",
    "    pl.suptitle('Burn in, '+name+' sampling')\n",
    "    pl.show()"
   ]
  }
 ],
 "metadata": {
  "kernelspec": {
   "display_name": "Python 3",
   "language": "python",
   "name": "python3"
  },
  "language_info": {
   "codemirror_mode": {
    "name": "ipython",
    "version": 3
   },
   "file_extension": ".py",
   "mimetype": "text/x-python",
   "name": "python",
   "nbconvert_exporter": "python",
   "pygments_lexer": "ipython3",
   "version": "3.8.8"
  }
 },
 "nbformat": 4,
 "nbformat_minor": 2
}
